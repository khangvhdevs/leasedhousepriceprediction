{
 "cells": [
  {
   "cell_type": "code",
   "execution_count": 1,
   "id": "d7f0a7e0-ef54-44b6-af10-c909a6ec351d",
   "metadata": {},
   "outputs": [],
   "source": [
    "import os\n",
    "import pandas as pd\n",
    "import matplotlib.pyplot as plt\n",
    "import numpy as np\n",
    "import seaborn as sns"
   ]
  },
  {
   "cell_type": "code",
   "execution_count": 2,
   "id": "f5229bfb-aa2d-4466-b0c2-189ecc534e13",
   "metadata": {},
   "outputs": [],
   "source": [
    "path = \"C:\\\\Users\\\\LEGION\\\\Documents\\\\My Document\\\\BTEC Study Case\\\\6th semester\\\\Computing Project\\\\project\\\\house_hiring\\\\data\\\\\""
   ]
  },
  {
   "cell_type": "code",
   "execution_count": 3,
   "id": "73b6859e-9b35-4eb7-aa2b-5947f3861dd6",
   "metadata": {},
   "outputs": [],
   "source": [
    "df_hcm = pd.read_csv(path + 'hcm.csv')"
   ]
  },
  {
   "cell_type": "code",
   "execution_count": 4,
   "id": "f46edc93",
   "metadata": {},
   "outputs": [
    {
     "name": "stdout",
     "output_type": "stream",
     "text": [
      "<class 'pandas.core.frame.DataFrame'>\n",
      "RangeIndex: 9733 entries, 0 to 9732\n",
      "Data columns (total 5 columns):\n",
      " #   Column     Non-Null Count  Dtype  \n",
      "---  ------     --------------  -----  \n",
      " 0   title      9733 non-null   object \n",
      " 1   price      9733 non-null   float64\n",
      " 2   published  9733 non-null   object \n",
      " 3   acreage    9733 non-null   float64\n",
      " 4   address    9733 non-null   object \n",
      "dtypes: float64(2), object(3)\n",
      "memory usage: 380.3+ KB\n"
     ]
    }
   ],
   "source": [
    "df_hcm.info()"
   ]
  },
  {
   "cell_type": "code",
   "execution_count": 5,
   "id": "06db10c3",
   "metadata": {},
   "outputs": [
    {
     "data": {
      "text/html": [
       "<div>\n",
       "<style scoped>\n",
       "    .dataframe tbody tr th:only-of-type {\n",
       "        vertical-align: middle;\n",
       "    }\n",
       "\n",
       "    .dataframe tbody tr th {\n",
       "        vertical-align: top;\n",
       "    }\n",
       "\n",
       "    .dataframe thead th {\n",
       "        text-align: right;\n",
       "    }\n",
       "</style>\n",
       "<table border=\"1\" class=\"dataframe\">\n",
       "  <thead>\n",
       "    <tr style=\"text-align: right;\">\n",
       "      <th></th>\n",
       "      <th>title</th>\n",
       "      <th>price</th>\n",
       "      <th>published</th>\n",
       "      <th>acreage</th>\n",
       "      <th>address</th>\n",
       "    </tr>\n",
       "  </thead>\n",
       "  <tbody>\n",
       "    <tr>\n",
       "      <th>0</th>\n",
       "      <td>Cho thuê nhà trọ mới sạch đẹp tại Lê Đình Cẩn,...</td>\n",
       "      <td>2.2</td>\n",
       "      <td>16/05/2022</td>\n",
       "      <td>20.0</td>\n",
       "      <td>Lê Đình Cẩn, Phường Tân Tạo, Quận Bình Tân, Hồ...</td>\n",
       "    </tr>\n",
       "    <tr>\n",
       "      <th>1</th>\n",
       "      <td>Cho thuê phòng trọ giá rẻ ở mặt tiền hẻm lớn Đ...</td>\n",
       "      <td>2.5</td>\n",
       "      <td>20/04/2022</td>\n",
       "      <td>20.0</td>\n",
       "      <td>487/35/25 Đường Huỳnh Tấn Phát, Phường Tân Thu...</td>\n",
       "    </tr>\n",
       "    <tr>\n",
       "      <th>2</th>\n",
       "      <td>Cho thuê phòng trọ kdc Nam Long-Trần Trọng Cun...</td>\n",
       "      <td>3.5</td>\n",
       "      <td>10/05/2022</td>\n",
       "      <td>30.0</td>\n",
       "      <td>Đường 10, Phường Tân Thuận Đông, Quận 7, Hồ Ch...</td>\n",
       "    </tr>\n",
       "    <tr>\n",
       "      <th>3</th>\n",
       "      <td>Phòng trọ giá rẻ ngay cổng khu chế xuất Tân Th...</td>\n",
       "      <td>1.5</td>\n",
       "      <td>05/05/2022</td>\n",
       "      <td>30.0</td>\n",
       "      <td>283/15 Huỳnh Tấn Phát, Phường Tân Thuận Đông, ...</td>\n",
       "    </tr>\n",
       "    <tr>\n",
       "      <th>4</th>\n",
       "      <td>Cho thuê phòng có gác, không gác, tolet riêng ...</td>\n",
       "      <td>3.5</td>\n",
       "      <td>05/01/2022</td>\n",
       "      <td>18.0</td>\n",
       "      <td>Lê Văn Sỹ, Phường 14, Quận Phú Nhuận, Hồ Chí Minh</td>\n",
       "    </tr>\n",
       "  </tbody>\n",
       "</table>\n",
       "</div>"
      ],
      "text/plain": [
       "                                               title  price   published  \\\n",
       "0  Cho thuê nhà trọ mới sạch đẹp tại Lê Đình Cẩn,...    2.2  16/05/2022   \n",
       "1  Cho thuê phòng trọ giá rẻ ở mặt tiền hẻm lớn Đ...    2.5  20/04/2022   \n",
       "2  Cho thuê phòng trọ kdc Nam Long-Trần Trọng Cun...    3.5  10/05/2022   \n",
       "3  Phòng trọ giá rẻ ngay cổng khu chế xuất Tân Th...    1.5  05/05/2022   \n",
       "4  Cho thuê phòng có gác, không gác, tolet riêng ...    3.5  05/01/2022   \n",
       "\n",
       "   acreage                                            address  \n",
       "0     20.0  Lê Đình Cẩn, Phường Tân Tạo, Quận Bình Tân, Hồ...  \n",
       "1     20.0  487/35/25 Đường Huỳnh Tấn Phát, Phường Tân Thu...  \n",
       "2     30.0  Đường 10, Phường Tân Thuận Đông, Quận 7, Hồ Ch...  \n",
       "3     30.0  283/15 Huỳnh Tấn Phát, Phường Tân Thuận Đông, ...  \n",
       "4     18.0  Lê Văn Sỹ, Phường 14, Quận Phú Nhuận, Hồ Chí Minh  "
      ]
     },
     "execution_count": 5,
     "metadata": {},
     "output_type": "execute_result"
    }
   ],
   "source": [
    "df_hcm.head()"
   ]
  },
  {
   "cell_type": "markdown",
   "id": "7b8b8bb9-b710-48fe-a60f-0ac284055bfe",
   "metadata": {},
   "source": [
    "# 1. Clean and Preprocess data"
   ]
  },
  {
   "cell_type": "code",
   "execution_count": 6,
   "id": "83a40274",
   "metadata": {},
   "outputs": [],
   "source": [
    "import re"
   ]
  },
  {
   "cell_type": "code",
   "execution_count": 7,
   "id": "1e62d822-97aa-4885-97b2-95a8036b3335",
   "metadata": {},
   "outputs": [],
   "source": [
    "def address_to_district(address):\n",
    "    parts = address.split(',')\n",
    "    if len(parts) >= 3:\n",
    "        district = parts[-2].strip()\n",
    "        if \"Quận\" in district or \"Huyện\" in district:\n",
    "            district = district.split(\"Quận\", 1)[-1].split(\"Huyện\", 1)[-1].strip()\n",
    "            return district\n",
    "    return None"
   ]
  },
  {
   "cell_type": "code",
   "execution_count": 8,
   "id": "83d2c64e-41e0-478a-8170-32aab6036a57",
   "metadata": {},
   "outputs": [],
   "source": [
    "def address_to_ward(address):\n",
    "    parts = address.split(',')\n",
    "    if len(parts) >= 3:\n",
    "        ward = parts[-3].strip()\n",
    "        if \"Phường\" in ward or \"Xã\" in ward:\n",
    "            ward = ward.split(\"Xã\", 1)[-1].split(\"Phường\", 1)[-1].strip()\n",
    "            return ward\n",
    "    return None"
   ]
  },
  {
   "cell_type": "code",
   "execution_count": 9,
   "id": "5271a56f-cca0-44e7-b248-bc2d610b98f2",
   "metadata": {},
   "outputs": [],
   "source": [
    "df_hcm.loc[:,'city'] = 'HCM'"
   ]
  },
  {
   "cell_type": "code",
   "execution_count": 10,
   "id": "e8f6d18c-3a37-4a6e-96af-137fd02b30c2",
   "metadata": {},
   "outputs": [],
   "source": [
    "df_hcm.loc[:,'district'] = df_hcm['address'].apply(address_to_district)"
   ]
  },
  {
   "cell_type": "code",
   "execution_count": 11,
   "id": "02eded88-9e20-42a7-9a23-2b4fa07655b2",
   "metadata": {},
   "outputs": [
    {
     "data": {
      "text/plain": [
       "array(['Bình Tân', '7', 'Phú Nhuận', '3', '8', '6', '4', '10', 'Nhà Bè',\n",
       "       None, '11', '5', '05', 'Gò Vấp', 'Gò Vấp', '12', '1', '9',\n",
       "       '9 (có thể đi xe buýt', 'Bình Thạnh', 'Tân Bình', 'Tân Phú',\n",
       "       'Củ Chi', 'Bình Chánh', '2', 'Củ aChi', 'Thủ Đức', 'Hóc Môn'],\n",
       "      dtype=object)"
      ]
     },
     "execution_count": 11,
     "metadata": {},
     "output_type": "execute_result"
    }
   ],
   "source": [
    "df_hcm['district'].unique()"
   ]
  },
  {
   "cell_type": "code",
   "execution_count": 12,
   "id": "10d398ec-1274-47d8-8ad3-524429dff1d5",
   "metadata": {},
   "outputs": [],
   "source": [
    "df_hcm = df_hcm[df_hcm['district'].notnull()]"
   ]
  },
  {
   "cell_type": "code",
   "execution_count": 13,
   "id": "e3013379-9edd-47bb-b979-5c765ed72418",
   "metadata": {},
   "outputs": [],
   "source": [
    "df_hcm.loc[df_hcm['district'] == \"9 (có thể đi xe buýt\", 'district'] = '9'\n",
    "df_hcm.loc[df_hcm['district'] == \"05\", 'district'] = '5'\n",
    "df_hcm.loc[df_hcm['district'] == \"Củ aChi\", 'district'] = 'Củ Chi'\n",
    "df_hcm.loc[df_hcm['district'] == \"Gò Vấp\", 'district'] = 'Gò Vấp'"
   ]
  },
  {
   "cell_type": "code",
   "execution_count": 14,
   "id": "c484fcad-760e-4372-b0fe-44ae6779dc54",
   "metadata": {},
   "outputs": [
    {
     "data": {
      "text/plain": [
       "array(['Bình Tân', '7', 'Phú Nhuận', '3', '8', '6', '4', '10', 'Nhà Bè',\n",
       "       '11', '5', 'Gò Vấp', '12', '1', '9', 'Bình Thạnh', 'Tân Bình',\n",
       "       'Tân Phú', 'Củ Chi', 'Bình Chánh', '2', 'Thủ Đức', 'Hóc Môn'],\n",
       "      dtype=object)"
      ]
     },
     "execution_count": 14,
     "metadata": {},
     "output_type": "execute_result"
    }
   ],
   "source": [
    "df_hcm['district'].unique()"
   ]
  },
  {
   "cell_type": "code",
   "execution_count": 15,
   "id": "9ac32d54-2470-4e42-8fce-894328e2e3cc",
   "metadata": {},
   "outputs": [
    {
     "name": "stdout",
     "output_type": "stream",
     "text": [
      "<class 'pandas.core.frame.DataFrame'>\n",
      "Index: 9582 entries, 0 to 9732\n",
      "Data columns (total 7 columns):\n",
      " #   Column     Non-Null Count  Dtype  \n",
      "---  ------     --------------  -----  \n",
      " 0   title      9582 non-null   object \n",
      " 1   price      9582 non-null   float64\n",
      " 2   published  9582 non-null   object \n",
      " 3   acreage    9582 non-null   float64\n",
      " 4   address    9582 non-null   object \n",
      " 5   city       9582 non-null   object \n",
      " 6   district   9582 non-null   object \n",
      "dtypes: float64(2), object(5)\n",
      "memory usage: 598.9+ KB\n"
     ]
    }
   ],
   "source": [
    "df_hcm.info()"
   ]
  },
  {
   "cell_type": "code",
   "execution_count": 16,
   "id": "2af30a13-9a48-454c-b7d1-af3b0abb3589",
   "metadata": {},
   "outputs": [],
   "source": [
    "df_hcm = df_hcm[df_hcm['district'].notnull()]"
   ]
  },
  {
   "cell_type": "code",
   "execution_count": 17,
   "id": "778ad791-e16b-4119-807c-3121fc108af6",
   "metadata": {},
   "outputs": [
    {
     "name": "stdout",
     "output_type": "stream",
     "text": [
      "<class 'pandas.core.frame.DataFrame'>\n",
      "Index: 9582 entries, 0 to 9732\n",
      "Data columns (total 7 columns):\n",
      " #   Column     Non-Null Count  Dtype  \n",
      "---  ------     --------------  -----  \n",
      " 0   title      9582 non-null   object \n",
      " 1   price      9582 non-null   float64\n",
      " 2   published  9582 non-null   object \n",
      " 3   acreage    9582 non-null   float64\n",
      " 4   address    9582 non-null   object \n",
      " 5   city       9582 non-null   object \n",
      " 6   district   9582 non-null   object \n",
      "dtypes: float64(2), object(5)\n",
      "memory usage: 598.9+ KB\n"
     ]
    }
   ],
   "source": [
    "df_hcm.info()"
   ]
  },
  {
   "cell_type": "markdown",
   "id": "7967bbb5-3a62-4748-aa11-60c6089452b8",
   "metadata": {},
   "source": [
    "## 2.2. Split to wards of district"
   ]
  },
  {
   "cell_type": "code",
   "execution_count": 18,
   "id": "0730a53f-6373-48f2-9af5-fa27fb1bbbe7",
   "metadata": {},
   "outputs": [
    {
     "data": {
      "text/html": [
       "<div>\n",
       "<style scoped>\n",
       "    .dataframe tbody tr th:only-of-type {\n",
       "        vertical-align: middle;\n",
       "    }\n",
       "\n",
       "    .dataframe tbody tr th {\n",
       "        vertical-align: top;\n",
       "    }\n",
       "\n",
       "    .dataframe thead th {\n",
       "        text-align: right;\n",
       "    }\n",
       "</style>\n",
       "<table border=\"1\" class=\"dataframe\">\n",
       "  <thead>\n",
       "    <tr style=\"text-align: right;\">\n",
       "      <th></th>\n",
       "      <th>title</th>\n",
       "      <th>price</th>\n",
       "      <th>published</th>\n",
       "      <th>acreage</th>\n",
       "      <th>address</th>\n",
       "      <th>city</th>\n",
       "      <th>district</th>\n",
       "    </tr>\n",
       "  </thead>\n",
       "  <tbody>\n",
       "    <tr>\n",
       "      <th>0</th>\n",
       "      <td>Cho thuê nhà trọ mới sạch đẹp tại Lê Đình Cẩn,...</td>\n",
       "      <td>2.2</td>\n",
       "      <td>16/05/2022</td>\n",
       "      <td>20.0</td>\n",
       "      <td>Lê Đình Cẩn, Phường Tân Tạo, Quận Bình Tân, Hồ...</td>\n",
       "      <td>HCM</td>\n",
       "      <td>Bình Tân</td>\n",
       "    </tr>\n",
       "    <tr>\n",
       "      <th>1</th>\n",
       "      <td>Cho thuê phòng trọ giá rẻ ở mặt tiền hẻm lớn Đ...</td>\n",
       "      <td>2.5</td>\n",
       "      <td>20/04/2022</td>\n",
       "      <td>20.0</td>\n",
       "      <td>487/35/25 Đường Huỳnh Tấn Phát, Phường Tân Thu...</td>\n",
       "      <td>HCM</td>\n",
       "      <td>7</td>\n",
       "    </tr>\n",
       "    <tr>\n",
       "      <th>2</th>\n",
       "      <td>Cho thuê phòng trọ kdc Nam Long-Trần Trọng Cun...</td>\n",
       "      <td>3.5</td>\n",
       "      <td>10/05/2022</td>\n",
       "      <td>30.0</td>\n",
       "      <td>Đường 10, Phường Tân Thuận Đông, Quận 7, Hồ Ch...</td>\n",
       "      <td>HCM</td>\n",
       "      <td>7</td>\n",
       "    </tr>\n",
       "    <tr>\n",
       "      <th>3</th>\n",
       "      <td>Phòng trọ giá rẻ ngay cổng khu chế xuất Tân Th...</td>\n",
       "      <td>1.5</td>\n",
       "      <td>05/05/2022</td>\n",
       "      <td>30.0</td>\n",
       "      <td>283/15 Huỳnh Tấn Phát, Phường Tân Thuận Đông, ...</td>\n",
       "      <td>HCM</td>\n",
       "      <td>7</td>\n",
       "    </tr>\n",
       "    <tr>\n",
       "      <th>4</th>\n",
       "      <td>Cho thuê phòng có gác, không gác, tolet riêng ...</td>\n",
       "      <td>3.5</td>\n",
       "      <td>05/01/2022</td>\n",
       "      <td>18.0</td>\n",
       "      <td>Lê Văn Sỹ, Phường 14, Quận Phú Nhuận, Hồ Chí Minh</td>\n",
       "      <td>HCM</td>\n",
       "      <td>Phú Nhuận</td>\n",
       "    </tr>\n",
       "  </tbody>\n",
       "</table>\n",
       "</div>"
      ],
      "text/plain": [
       "                                               title  price   published  \\\n",
       "0  Cho thuê nhà trọ mới sạch đẹp tại Lê Đình Cẩn,...    2.2  16/05/2022   \n",
       "1  Cho thuê phòng trọ giá rẻ ở mặt tiền hẻm lớn Đ...    2.5  20/04/2022   \n",
       "2  Cho thuê phòng trọ kdc Nam Long-Trần Trọng Cun...    3.5  10/05/2022   \n",
       "3  Phòng trọ giá rẻ ngay cổng khu chế xuất Tân Th...    1.5  05/05/2022   \n",
       "4  Cho thuê phòng có gác, không gác, tolet riêng ...    3.5  05/01/2022   \n",
       "\n",
       "   acreage                                            address city   district  \n",
       "0     20.0  Lê Đình Cẩn, Phường Tân Tạo, Quận Bình Tân, Hồ...  HCM   Bình Tân  \n",
       "1     20.0  487/35/25 Đường Huỳnh Tấn Phát, Phường Tân Thu...  HCM          7  \n",
       "2     30.0  Đường 10, Phường Tân Thuận Đông, Quận 7, Hồ Ch...  HCM          7  \n",
       "3     30.0  283/15 Huỳnh Tấn Phát, Phường Tân Thuận Đông, ...  HCM          7  \n",
       "4     18.0  Lê Văn Sỹ, Phường 14, Quận Phú Nhuận, Hồ Chí Minh  HCM  Phú Nhuận  "
      ]
     },
     "execution_count": 18,
     "metadata": {},
     "output_type": "execute_result"
    }
   ],
   "source": [
    "df_hcm.head()"
   ]
  },
  {
   "cell_type": "code",
   "execution_count": 19,
   "id": "e92d0f3f-4a72-4198-bfa1-bdf585942af9",
   "metadata": {},
   "outputs": [],
   "source": [
    "df_hcm.loc[:, 'ward'] = df_hcm['address'].apply(address_to_ward)"
   ]
  },
  {
   "cell_type": "code",
   "execution_count": 20,
   "id": "cb1993b2-7659-4392-b4f9-76ba98d65a27",
   "metadata": {},
   "outputs": [
    {
     "data": {
      "text/html": [
       "<div>\n",
       "<style scoped>\n",
       "    .dataframe tbody tr th:only-of-type {\n",
       "        vertical-align: middle;\n",
       "    }\n",
       "\n",
       "    .dataframe tbody tr th {\n",
       "        vertical-align: top;\n",
       "    }\n",
       "\n",
       "    .dataframe thead th {\n",
       "        text-align: right;\n",
       "    }\n",
       "</style>\n",
       "<table border=\"1\" class=\"dataframe\">\n",
       "  <thead>\n",
       "    <tr style=\"text-align: right;\">\n",
       "      <th></th>\n",
       "      <th>title</th>\n",
       "      <th>price</th>\n",
       "      <th>published</th>\n",
       "      <th>acreage</th>\n",
       "      <th>address</th>\n",
       "      <th>city</th>\n",
       "      <th>district</th>\n",
       "      <th>ward</th>\n",
       "    </tr>\n",
       "  </thead>\n",
       "  <tbody>\n",
       "    <tr>\n",
       "      <th>0</th>\n",
       "      <td>Cho thuê nhà trọ mới sạch đẹp tại Lê Đình Cẩn,...</td>\n",
       "      <td>2.2</td>\n",
       "      <td>16/05/2022</td>\n",
       "      <td>20.0</td>\n",
       "      <td>Lê Đình Cẩn, Phường Tân Tạo, Quận Bình Tân, Hồ...</td>\n",
       "      <td>HCM</td>\n",
       "      <td>Bình Tân</td>\n",
       "      <td>Tân Tạo</td>\n",
       "    </tr>\n",
       "    <tr>\n",
       "      <th>1</th>\n",
       "      <td>Cho thuê phòng trọ giá rẻ ở mặt tiền hẻm lớn Đ...</td>\n",
       "      <td>2.5</td>\n",
       "      <td>20/04/2022</td>\n",
       "      <td>20.0</td>\n",
       "      <td>487/35/25 Đường Huỳnh Tấn Phát, Phường Tân Thu...</td>\n",
       "      <td>HCM</td>\n",
       "      <td>7</td>\n",
       "      <td>Tân Thuận Đông</td>\n",
       "    </tr>\n",
       "    <tr>\n",
       "      <th>2</th>\n",
       "      <td>Cho thuê phòng trọ kdc Nam Long-Trần Trọng Cun...</td>\n",
       "      <td>3.5</td>\n",
       "      <td>10/05/2022</td>\n",
       "      <td>30.0</td>\n",
       "      <td>Đường 10, Phường Tân Thuận Đông, Quận 7, Hồ Ch...</td>\n",
       "      <td>HCM</td>\n",
       "      <td>7</td>\n",
       "      <td>Tân Thuận Đông</td>\n",
       "    </tr>\n",
       "    <tr>\n",
       "      <th>3</th>\n",
       "      <td>Phòng trọ giá rẻ ngay cổng khu chế xuất Tân Th...</td>\n",
       "      <td>1.5</td>\n",
       "      <td>05/05/2022</td>\n",
       "      <td>30.0</td>\n",
       "      <td>283/15 Huỳnh Tấn Phát, Phường Tân Thuận Đông, ...</td>\n",
       "      <td>HCM</td>\n",
       "      <td>7</td>\n",
       "      <td>Tân Thuận Đông</td>\n",
       "    </tr>\n",
       "    <tr>\n",
       "      <th>4</th>\n",
       "      <td>Cho thuê phòng có gác, không gác, tolet riêng ...</td>\n",
       "      <td>3.5</td>\n",
       "      <td>05/01/2022</td>\n",
       "      <td>18.0</td>\n",
       "      <td>Lê Văn Sỹ, Phường 14, Quận Phú Nhuận, Hồ Chí Minh</td>\n",
       "      <td>HCM</td>\n",
       "      <td>Phú Nhuận</td>\n",
       "      <td>14</td>\n",
       "    </tr>\n",
       "  </tbody>\n",
       "</table>\n",
       "</div>"
      ],
      "text/plain": [
       "                                               title  price   published  \\\n",
       "0  Cho thuê nhà trọ mới sạch đẹp tại Lê Đình Cẩn,...    2.2  16/05/2022   \n",
       "1  Cho thuê phòng trọ giá rẻ ở mặt tiền hẻm lớn Đ...    2.5  20/04/2022   \n",
       "2  Cho thuê phòng trọ kdc Nam Long-Trần Trọng Cun...    3.5  10/05/2022   \n",
       "3  Phòng trọ giá rẻ ngay cổng khu chế xuất Tân Th...    1.5  05/05/2022   \n",
       "4  Cho thuê phòng có gác, không gác, tolet riêng ...    3.5  05/01/2022   \n",
       "\n",
       "   acreage                                            address city   district  \\\n",
       "0     20.0  Lê Đình Cẩn, Phường Tân Tạo, Quận Bình Tân, Hồ...  HCM   Bình Tân   \n",
       "1     20.0  487/35/25 Đường Huỳnh Tấn Phát, Phường Tân Thu...  HCM          7   \n",
       "2     30.0  Đường 10, Phường Tân Thuận Đông, Quận 7, Hồ Ch...  HCM          7   \n",
       "3     30.0  283/15 Huỳnh Tấn Phát, Phường Tân Thuận Đông, ...  HCM          7   \n",
       "4     18.0  Lê Văn Sỹ, Phường 14, Quận Phú Nhuận, Hồ Chí Minh  HCM  Phú Nhuận   \n",
       "\n",
       "             ward  \n",
       "0         Tân Tạo  \n",
       "1  Tân Thuận Đông  \n",
       "2  Tân Thuận Đông  \n",
       "3  Tân Thuận Đông  \n",
       "4              14  "
      ]
     },
     "execution_count": 20,
     "metadata": {},
     "output_type": "execute_result"
    }
   ],
   "source": [
    "df_hcm.head()"
   ]
  },
  {
   "cell_type": "markdown",
   "id": "0be2b768",
   "metadata": {},
   "source": [
    "## 2.3. Split month"
   ]
  },
  {
   "cell_type": "code",
   "execution_count": 21,
   "id": "004b224f",
   "metadata": {},
   "outputs": [],
   "source": [
    "df_hcm['month'] = df_hcm['published'].str[3:5]"
   ]
  },
  {
   "cell_type": "code",
   "execution_count": 22,
   "id": "09cf89be",
   "metadata": {},
   "outputs": [],
   "source": [
    "df_hcm['published'] = pd.to_datetime(df_hcm['published'], format='%d/%m/%Y', errors='coerce')"
   ]
  },
  {
   "cell_type": "code",
   "execution_count": 23,
   "id": "100c4270",
   "metadata": {},
   "outputs": [
    {
     "data": {
      "text/plain": [
       "array(['05', '04', '01', '11', '03', '07', '12', '10', '06', '08', '02',\n",
       "       '09', 'gà', 'gi', ' n', 'iờ', 'hú'], dtype=object)"
      ]
     },
     "execution_count": 23,
     "metadata": {},
     "output_type": "execute_result"
    }
   ],
   "source": [
    "df_hcm['month'].unique()"
   ]
  },
  {
   "cell_type": "code",
   "execution_count": 24,
   "id": "627f349e",
   "metadata": {},
   "outputs": [],
   "source": [
    "df_hcm = df_hcm[~df_hcm['month'].isin(['gà', 'gi', ' n', 'iờ', 'hú'])]"
   ]
  },
  {
   "cell_type": "code",
   "execution_count": 25,
   "id": "15228c23",
   "metadata": {},
   "outputs": [
    {
     "name": "stdout",
     "output_type": "stream",
     "text": [
      "['05' '04' '01' '11' '03' '07' '12' '10' '06' '08' '02' '09']\n"
     ]
    }
   ],
   "source": [
    "df_hcm = df_hcm[df_hcm['month'].notnull()]\n",
    "print(df_hcm['month'].unique())"
   ]
  },
  {
   "cell_type": "code",
   "execution_count": 26,
   "id": "e8d75837",
   "metadata": {},
   "outputs": [],
   "source": [
    "df_hcm.to_csv('processed_data.csv', index = False)"
   ]
  },
  {
   "cell_type": "markdown",
   "id": "cc705ba1-5ac3-4efd-9e9c-b12bf3d4eda7",
   "metadata": {},
   "source": [
    "# 3. Data Visualization"
   ]
  },
  {
   "cell_type": "markdown",
   "id": "64c25c6c",
   "metadata": {},
   "source": [
    "## 3.1. Scatter plot"
   ]
  },
  {
   "cell_type": "code",
   "execution_count": 27,
   "id": "6919a49d-2848-499f-88cc-6f94e4063dc5",
   "metadata": {},
   "outputs": [
    {
     "data": {
      "text/plain": [
       "<Figure size 1000x1200 with 0 Axes>"
      ]
     },
     "execution_count": 27,
     "metadata": {},
     "output_type": "execute_result"
    },
    {
     "data": {
      "text/plain": [
       "<Figure size 1000x1200 with 0 Axes>"
      ]
     },
     "metadata": {},
     "output_type": "display_data"
    }
   ],
   "source": [
    "def scatter(x,fig):\n",
    "    plt.scatter(df_hcm[x],df_hcm['price'])\n",
    "    plt.title(x+' vs price')\n",
    "    plt.ylabel('price')\n",
    "    plt.xlabel(x)\n",
    "plt.figure(figsize=(10,12))"
   ]
  },
  {
   "cell_type": "code",
   "execution_count": 28,
   "id": "71ceaffb-b32b-451f-b007-c453c77ad860",
   "metadata": {},
   "outputs": [
    {
     "data": {
      "image/png": "[encoded data removed]",
      "text/plain": [
       "<Figure size 640x480 with 1 Axes>"
      ]
     },
     "metadata": {},
     "output_type": "display_data"
    }
   ],
   "source": [
    "scatter('acreage',1)\n",
    "plt.tight_layout()"
   ]
  },
  {
   "cell_type": "markdown",
   "id": "c6ed2965",
   "metadata": {},
   "source": [
    "## 3.2. Bar Chart"
   ]
  },
  {
   "cell_type": "code",
   "execution_count": 29,
   "id": "a9c58376-75f5-41dd-94ec-ed5f0e643383",
   "metadata": {},
   "outputs": [
    {
     "data": {
      "text/html": [
       "<div>\n",
       "<style scoped>\n",
       "    .dataframe tbody tr th:only-of-type {\n",
       "        vertical-align: middle;\n",
       "    }\n",
       "\n",
       "    .dataframe tbody tr th {\n",
       "        vertical-align: top;\n",
       "    }\n",
       "\n",
       "    .dataframe thead th {\n",
       "        text-align: right;\n",
       "    }\n",
       "</style>\n",
       "<table border=\"1\" class=\"dataframe\">\n",
       "  <thead>\n",
       "    <tr style=\"text-align: right;\">\n",
       "      <th></th>\n",
       "      <th>district</th>\n",
       "      <th>ward</th>\n",
       "      <th>price</th>\n",
       "    </tr>\n",
       "  </thead>\n",
       "  <tbody>\n",
       "    <tr>\n",
       "      <th>0</th>\n",
       "      <td>Bình Tân</td>\n",
       "      <td>Tân Tạo</td>\n",
       "      <td>2.2</td>\n",
       "    </tr>\n",
       "    <tr>\n",
       "      <th>1</th>\n",
       "      <td>7</td>\n",
       "      <td>Tân Thuận Đông</td>\n",
       "      <td>2.5</td>\n",
       "    </tr>\n",
       "    <tr>\n",
       "      <th>2</th>\n",
       "      <td>7</td>\n",
       "      <td>Tân Thuận Đông</td>\n",
       "      <td>3.5</td>\n",
       "    </tr>\n",
       "    <tr>\n",
       "      <th>3</th>\n",
       "      <td>7</td>\n",
       "      <td>Tân Thuận Đông</td>\n",
       "      <td>1.5</td>\n",
       "    </tr>\n",
       "    <tr>\n",
       "      <th>4</th>\n",
       "      <td>Phú Nhuận</td>\n",
       "      <td>14</td>\n",
       "      <td>3.5</td>\n",
       "    </tr>\n",
       "  </tbody>\n",
       "</table>\n",
       "</div>"
      ],
      "text/plain": [
       "    district            ward  price\n",
       "0   Bình Tân         Tân Tạo    2.2\n",
       "1          7  Tân Thuận Đông    2.5\n",
       "2          7  Tân Thuận Đông    3.5\n",
       "3          7  Tân Thuận Đông    1.5\n",
       "4  Phú Nhuận              14    3.5"
      ]
     },
     "execution_count": 29,
     "metadata": {},
     "output_type": "execute_result"
    }
   ],
   "source": [
    "frame = df_hcm[['district', 'ward', 'price']]\n",
    "bins = [1,2,3,4]\n",
    "frame.head()"
   ]
  },
  {
   "cell_type": "code",
   "execution_count": 30,
   "id": "4ab37aad-7365-44fb-a27c-f602eb575ee5",
   "metadata": {},
   "outputs": [],
   "source": [
    "def Analyst(df_a,col):\n",
    "    temp = df_a.copy()\n",
    "    table = df_a.groupby([col], observed=False)['price'].mean()\n",
    "    temp = temp.merge(table.reset_index(), how='left',on=col)\n",
    "    cars_bin=['Low','Medium','High']\n",
    "    df_a.loc[:,'range'] = pd.cut(temp.loc[:,'price_y'],bins,right=False,labels=cars_bin)\n",
    "    plt.rcParams['figure.figsize'] = (18, 8)\n",
    "    df_a_1 = pd.DataFrame(df_a.groupby([col,'range'], observed=False)['price'].mean().unstack(fill_value=0))\n",
    "    df_a_1.plot.bar()\n",
    "    plt.title('house Range vs Price')\n",
    "    plt.ylabel('million VND')\n",
    "    plt.show()"
   ]
  },
  {
   "cell_type": "code",
   "execution_count": 56,
   "id": "89d319d5-5db3-4485-b4c5-61e381147b6e",
   "metadata": {},
   "outputs": [
    {
     "data": {
      "image/png": "[encoded data removed]",
      "text/plain": [
       "<Figure size 1800x800 with 1 Axes>"
      ]
     },
     "metadata": {},
     "output_type": "display_data"
    }
   ],
   "source": [
    "Analyst(frame,'district')"
   ]
  },
  {
   "cell_type": "code",
   "execution_count": 32,
   "id": "26ec0c57",
   "metadata": {},
   "outputs": [
    {
     "name": "stderr",
     "output_type": "stream",
     "text": [
      "C:\\Users\\LEGION\\AppData\\Local\\Temp\\ipykernel_25056\\827428932.py:11: UserWarning: set_ticklabels() should only be used with a fixed number of ticks, i.e. after set_ticks() or using a FixedLocator.\n",
      "  ax1.set_xticklabels(month, rotation=90,size=8)\n"
     ]
    },
    {
     "data": {
      "image/png": "[encoded data removed]",
      "text/plain": [
       "<Figure size 1800x800 with 2 Axes>"
      ]
     },
     "metadata": {},
     "output_type": "display_data"
    }
   ],
   "source": [
    "month_price = df_hcm.groupby('month')['price'].mean()\n",
    "month_post = df_hcm.groupby('month')['title'].count()\n",
    "month = [month for month, posts in month_price.items()]\n",
    "\n",
    "fig, ax1 = plt.subplots()\n",
    "\n",
    "ax2 = ax1.twinx()\n",
    "ax1.bar(month, month_post, color='g')\n",
    "ax2.plot(month, month_price, 'b-')\n",
    "\n",
    "ax1.set_xticklabels(month, rotation=90,size=8)\n",
    "ax1.set_xlabel('Month')\n",
    "ax1.set_ylabel('Quantity Post', color='g')\n",
    "ax2.set_ylabel('Price', color='b')\n",
    "\n",
    "plt.show()"
   ]
  },
  {
   "cell_type": "markdown",
   "id": "6ca63d6f-ae56-4fc0-8dd5-b152fe6cfd88",
   "metadata": {},
   "source": [
    "# 3. Prediction model"
   ]
  },
  {
   "cell_type": "code",
   "execution_count": 33,
   "id": "99d58826-20be-4ca2-87ac-e4d6386956df",
   "metadata": {},
   "outputs": [],
   "source": [
    "from sklearn.preprocessing import StandardScaler\n",
    "from sklearn.linear_model import LinearRegression\n",
    "from sklearn.model_selection import train_test_split\n",
    "from sklearn.metrics import mean_squared_error"
   ]
  },
  {
   "cell_type": "markdown",
   "id": "aea3536e-1612-4cce-8220-f4d7c3c606da",
   "metadata": {},
   "source": [
    "## 3.1. Feature selection"
   ]
  },
  {
   "cell_type": "code",
   "execution_count": 34,
   "id": "8bcf29b5-c4eb-4b69-aef5-cd2f893ceacf",
   "metadata": {},
   "outputs": [],
   "source": [
    "features = [\"district\" ,\"acreage\"]"
   ]
  },
  {
   "cell_type": "markdown",
   "id": "6b10bca5-1413-4d8c-8f8f-5d8aa7dcf76f",
   "metadata": {},
   "source": [
    "## 3.2. Splitting data into X and Y"
   ]
  },
  {
   "cell_type": "code",
   "execution_count": 35,
   "id": "362d83d3-5239-4a54-afff-2a8d62a9dfc7",
   "metadata": {},
   "outputs": [],
   "source": [
    "X = df_hcm[features]"
   ]
  },
  {
   "cell_type": "code",
   "execution_count": 36,
   "id": "766b74be-1706-42f0-af2e-e523a9e05514",
   "metadata": {},
   "outputs": [],
   "source": [
    "y = df_hcm['price']"
   ]
  },
  {
   "cell_type": "code",
   "execution_count": 37,
   "id": "b277ad1b-e620-4956-bde6-8f5cc9c67a67",
   "metadata": {},
   "outputs": [
    {
     "data": {
      "text/html": [
       "<div>\n",
       "<style scoped>\n",
       "    .dataframe tbody tr th:only-of-type {\n",
       "        vertical-align: middle;\n",
       "    }\n",
       "\n",
       "    .dataframe tbody tr th {\n",
       "        vertical-align: top;\n",
       "    }\n",
       "\n",
       "    .dataframe thead th {\n",
       "        text-align: right;\n",
       "    }\n",
       "</style>\n",
       "<table border=\"1\" class=\"dataframe\">\n",
       "  <thead>\n",
       "    <tr style=\"text-align: right;\">\n",
       "      <th></th>\n",
       "      <th>acreage</th>\n",
       "      <th>district_1</th>\n",
       "      <th>district_10</th>\n",
       "      <th>district_11</th>\n",
       "      <th>district_12</th>\n",
       "      <th>district_2</th>\n",
       "      <th>district_3</th>\n",
       "      <th>district_4</th>\n",
       "      <th>district_5</th>\n",
       "      <th>district_6</th>\n",
       "      <th>...</th>\n",
       "      <th>district_Bình Thạnh</th>\n",
       "      <th>district_Bình Tân</th>\n",
       "      <th>district_Củ Chi</th>\n",
       "      <th>district_Gò Vấp</th>\n",
       "      <th>district_Hóc Môn</th>\n",
       "      <th>district_Nhà Bè</th>\n",
       "      <th>district_Phú Nhuận</th>\n",
       "      <th>district_Thủ Đức</th>\n",
       "      <th>district_Tân Bình</th>\n",
       "      <th>district_Tân Phú</th>\n",
       "    </tr>\n",
       "  </thead>\n",
       "  <tbody>\n",
       "    <tr>\n",
       "      <th>0</th>\n",
       "      <td>20.0</td>\n",
       "      <td>0.0</td>\n",
       "      <td>0.0</td>\n",
       "      <td>0.0</td>\n",
       "      <td>0.0</td>\n",
       "      <td>0.0</td>\n",
       "      <td>0.0</td>\n",
       "      <td>0.0</td>\n",
       "      <td>0.0</td>\n",
       "      <td>0.0</td>\n",
       "      <td>...</td>\n",
       "      <td>0.0</td>\n",
       "      <td>1.0</td>\n",
       "      <td>0.0</td>\n",
       "      <td>0.0</td>\n",
       "      <td>0.0</td>\n",
       "      <td>0.0</td>\n",
       "      <td>0.0</td>\n",
       "      <td>0.0</td>\n",
       "      <td>0.0</td>\n",
       "      <td>0.0</td>\n",
       "    </tr>\n",
       "    <tr>\n",
       "      <th>1</th>\n",
       "      <td>20.0</td>\n",
       "      <td>0.0</td>\n",
       "      <td>0.0</td>\n",
       "      <td>0.0</td>\n",
       "      <td>0.0</td>\n",
       "      <td>0.0</td>\n",
       "      <td>0.0</td>\n",
       "      <td>0.0</td>\n",
       "      <td>0.0</td>\n",
       "      <td>0.0</td>\n",
       "      <td>...</td>\n",
       "      <td>0.0</td>\n",
       "      <td>0.0</td>\n",
       "      <td>0.0</td>\n",
       "      <td>0.0</td>\n",
       "      <td>0.0</td>\n",
       "      <td>0.0</td>\n",
       "      <td>0.0</td>\n",
       "      <td>0.0</td>\n",
       "      <td>0.0</td>\n",
       "      <td>0.0</td>\n",
       "    </tr>\n",
       "    <tr>\n",
       "      <th>2</th>\n",
       "      <td>30.0</td>\n",
       "      <td>0.0</td>\n",
       "      <td>0.0</td>\n",
       "      <td>0.0</td>\n",
       "      <td>0.0</td>\n",
       "      <td>0.0</td>\n",
       "      <td>0.0</td>\n",
       "      <td>0.0</td>\n",
       "      <td>0.0</td>\n",
       "      <td>0.0</td>\n",
       "      <td>...</td>\n",
       "      <td>0.0</td>\n",
       "      <td>0.0</td>\n",
       "      <td>0.0</td>\n",
       "      <td>0.0</td>\n",
       "      <td>0.0</td>\n",
       "      <td>0.0</td>\n",
       "      <td>0.0</td>\n",
       "      <td>0.0</td>\n",
       "      <td>0.0</td>\n",
       "      <td>0.0</td>\n",
       "    </tr>\n",
       "    <tr>\n",
       "      <th>3</th>\n",
       "      <td>30.0</td>\n",
       "      <td>0.0</td>\n",
       "      <td>0.0</td>\n",
       "      <td>0.0</td>\n",
       "      <td>0.0</td>\n",
       "      <td>0.0</td>\n",
       "      <td>0.0</td>\n",
       "      <td>0.0</td>\n",
       "      <td>0.0</td>\n",
       "      <td>0.0</td>\n",
       "      <td>...</td>\n",
       "      <td>0.0</td>\n",
       "      <td>0.0</td>\n",
       "      <td>0.0</td>\n",
       "      <td>0.0</td>\n",
       "      <td>0.0</td>\n",
       "      <td>0.0</td>\n",
       "      <td>0.0</td>\n",
       "      <td>0.0</td>\n",
       "      <td>0.0</td>\n",
       "      <td>0.0</td>\n",
       "    </tr>\n",
       "    <tr>\n",
       "      <th>4</th>\n",
       "      <td>18.0</td>\n",
       "      <td>0.0</td>\n",
       "      <td>0.0</td>\n",
       "      <td>0.0</td>\n",
       "      <td>0.0</td>\n",
       "      <td>0.0</td>\n",
       "      <td>0.0</td>\n",
       "      <td>0.0</td>\n",
       "      <td>0.0</td>\n",
       "      <td>0.0</td>\n",
       "      <td>...</td>\n",
       "      <td>0.0</td>\n",
       "      <td>0.0</td>\n",
       "      <td>0.0</td>\n",
       "      <td>0.0</td>\n",
       "      <td>0.0</td>\n",
       "      <td>0.0</td>\n",
       "      <td>1.0</td>\n",
       "      <td>0.0</td>\n",
       "      <td>0.0</td>\n",
       "      <td>0.0</td>\n",
       "    </tr>\n",
       "  </tbody>\n",
       "</table>\n",
       "<p>5 rows × 24 columns</p>\n",
       "</div>"
      ],
      "text/plain": [
       "   acreage  district_1  district_10  district_11  district_12  district_2  \\\n",
       "0     20.0         0.0          0.0          0.0          0.0         0.0   \n",
       "1     20.0         0.0          0.0          0.0          0.0         0.0   \n",
       "2     30.0         0.0          0.0          0.0          0.0         0.0   \n",
       "3     30.0         0.0          0.0          0.0          0.0         0.0   \n",
       "4     18.0         0.0          0.0          0.0          0.0         0.0   \n",
       "\n",
       "   district_3  district_4  district_5  district_6  ...  district_Bình Thạnh  \\\n",
       "0         0.0         0.0         0.0         0.0  ...                  0.0   \n",
       "1         0.0         0.0         0.0         0.0  ...                  0.0   \n",
       "2         0.0         0.0         0.0         0.0  ...                  0.0   \n",
       "3         0.0         0.0         0.0         0.0  ...                  0.0   \n",
       "4         0.0         0.0         0.0         0.0  ...                  0.0   \n",
       "\n",
       "   district_Bình Tân  district_Củ Chi  district_Gò Vấp  district_Hóc Môn  \\\n",
       "0                1.0              0.0              0.0               0.0   \n",
       "1                0.0              0.0              0.0               0.0   \n",
       "2                0.0              0.0              0.0               0.0   \n",
       "3                0.0              0.0              0.0               0.0   \n",
       "4                0.0              0.0              0.0               0.0   \n",
       "\n",
       "   district_Nhà Bè  district_Phú Nhuận  district_Thủ Đức  district_Tân Bình  \\\n",
       "0              0.0                 0.0               0.0                0.0   \n",
       "1              0.0                 0.0               0.0                0.0   \n",
       "2              0.0                 0.0               0.0                0.0   \n",
       "3              0.0                 0.0               0.0                0.0   \n",
       "4              0.0                 1.0               0.0                0.0   \n",
       "\n",
       "   district_Tân Phú  \n",
       "0               0.0  \n",
       "1               0.0  \n",
       "2               0.0  \n",
       "3               0.0  \n",
       "4               0.0  \n",
       "\n",
       "[5 rows x 24 columns]"
      ]
     },
     "execution_count": 37,
     "metadata": {},
     "output_type": "execute_result"
    }
   ],
   "source": [
    "data_dummies = pd.get_dummies(X, drop_first=False)\n",
    "data_dummies = data_dummies.astype(float)\n",
    "cols = data_dummies.columns.values\n",
    "data_preprocessed = data_dummies[cols]\n",
    "data_preprocessed.head()"
   ]
  },
  {
   "cell_type": "code",
   "execution_count": 38,
   "id": "0c2b65c1-008e-43e2-aea9-4e18005d3377",
   "metadata": {},
   "outputs": [
    {
     "data": {
      "text/html": [
       "<style>#sk-container-id-1 {color: black;background-color: white;}#sk-container-id-1 pre{padding: 0;}#sk-container-id-1 div.sk-toggleable {background-color: white;}#sk-container-id-1 label.sk-toggleable__label {cursor: pointer;display: block;width: 100%;margin-bottom: 0;padding: 0.3em;box-sizing: border-box;text-align: center;}#sk-container-id-1 label.sk-toggleable__label-arrow:before {content: \"▸\";float: left;margin-right: 0.25em;color: #696969;}#sk-container-id-1 label.sk-toggleable__label-arrow:hover:before {color: black;}#sk-container-id-1 div.sk-estimator:hover label.sk-toggleable__label-arrow:before {color: black;}#sk-container-id-1 div.sk-toggleable__content {max-height: 0;max-width: 0;overflow: hidden;text-align: left;background-color: #f0f8ff;}#sk-container-id-1 div.sk-toggleable__content pre {margin: 0.2em;color: black;border-radius: 0.25em;background-color: #f0f8ff;}#sk-container-id-1 input.sk-toggleable__control:checked~div.sk-toggleable__content {max-height: 200px;max-width: 100%;overflow: auto;}#sk-container-id-1 input.sk-toggleable__control:checked~label.sk-toggleable__label-arrow:before {content: \"▾\";}#sk-container-id-1 div.sk-estimator input.sk-toggleable__control:checked~label.sk-toggleable__label {background-color: #d4ebff;}#sk-container-id-1 div.sk-label input.sk-toggleable__control:checked~label.sk-toggleable__label {background-color: #d4ebff;}#sk-container-id-1 input.sk-hidden--visually {border: 0;clip: rect(1px 1px 1px 1px);clip: rect(1px, 1px, 1px, 1px);height: 1px;margin: -1px;overflow: hidden;padding: 0;position: absolute;width: 1px;}#sk-container-id-1 div.sk-estimator {font-family: monospace;background-color: #f0f8ff;border: 1px dotted black;border-radius: 0.25em;box-sizing: border-box;margin-bottom: 0.5em;}#sk-container-id-1 div.sk-estimator:hover {background-color: #d4ebff;}#sk-container-id-1 div.sk-parallel-item::after {content: \"\";width: 100%;border-bottom: 1px solid gray;flex-grow: 1;}#sk-container-id-1 div.sk-label:hover label.sk-toggleable__label {background-color: #d4ebff;}#sk-container-id-1 div.sk-serial::before {content: \"\";position: absolute;border-left: 1px solid gray;box-sizing: border-box;top: 0;bottom: 0;left: 50%;z-index: 0;}#sk-container-id-1 div.sk-serial {display: flex;flex-direction: column;align-items: center;background-color: white;padding-right: 0.2em;padding-left: 0.2em;position: relative;}#sk-container-id-1 div.sk-item {position: relative;z-index: 1;}#sk-container-id-1 div.sk-parallel {display: flex;align-items: stretch;justify-content: center;background-color: white;position: relative;}#sk-container-id-1 div.sk-item::before, #sk-container-id-1 div.sk-parallel-item::before {content: \"\";position: absolute;border-left: 1px solid gray;box-sizing: border-box;top: 0;bottom: 0;left: 50%;z-index: -1;}#sk-container-id-1 div.sk-parallel-item {display: flex;flex-direction: column;z-index: 1;position: relative;background-color: white;}#sk-container-id-1 div.sk-parallel-item:first-child::after {align-self: flex-end;width: 50%;}#sk-container-id-1 div.sk-parallel-item:last-child::after {align-self: flex-start;width: 50%;}#sk-container-id-1 div.sk-parallel-item:only-child::after {width: 0;}#sk-container-id-1 div.sk-dashed-wrapped {border: 1px dashed gray;margin: 0 0.4em 0.5em 0.4em;box-sizing: border-box;padding-bottom: 0.4em;background-color: white;}#sk-container-id-1 div.sk-label label {font-family: monospace;font-weight: bold;display: inline-block;line-height: 1.2em;}#sk-container-id-1 div.sk-label-container {text-align: center;}#sk-container-id-1 div.sk-container {/* jupyter's `normalize.less` sets `[hidden] { display: none; }` but bootstrap.min.css set `[hidden] { display: none !important; }` so we also need the `!important` here to be able to override the default hidden behavior on the sphinx rendered scikit-learn.org. See: https://github.com/scikit-learn/scikit-learn/issues/21755 */display: inline-block !important;position: relative;}#sk-container-id-1 div.sk-text-repr-fallback {display: none;}</style><div id=\"sk-container-id-1\" class=\"sk-top-container\"><div class=\"sk-text-repr-fallback\"><pre>StandardScaler()</pre><b>In a Jupyter environment, please rerun this cell to show the HTML representation or trust the notebook. <br />On GitHub, the HTML representation is unable to render, please try loading this page with nbviewer.org.</b></div><div class=\"sk-container\" hidden><div class=\"sk-item\"><div class=\"sk-estimator sk-toggleable\"><input class=\"sk-toggleable__control sk-hidden--visually\" id=\"sk-estimator-id-1\" type=\"checkbox\" checked><label for=\"sk-estimator-id-1\" class=\"sk-toggleable__label sk-toggleable__label-arrow\">StandardScaler</label><div class=\"sk-toggleable__content\"><pre>StandardScaler()</pre></div></div></div></div></div>"
      ],
      "text/plain": [
       "StandardScaler()"
      ]
     },
     "execution_count": 38,
     "metadata": {},
     "output_type": "execute_result"
    }
   ],
   "source": [
    "scaler = StandardScaler()\n",
    "scaler.fit(data_preprocessed)"
   ]
  },
  {
   "cell_type": "code",
   "execution_count": 39,
   "id": "30267c0f-0bd4-40f5-82b9-7516bae83054",
   "metadata": {},
   "outputs": [
    {
     "data": {
      "text/plain": [
       "array([[-0.21403868, -0.20746548, -0.24360449, ..., -0.20997558,\n",
       "        -0.25687138, -0.2132841 ],\n",
       "       [-0.21403868, -0.20746548, -0.24360449, ..., -0.20997558,\n",
       "        -0.25687138, -0.2132841 ],\n",
       "       [ 0.12080254, -0.20746548, -0.24360449, ..., -0.20997558,\n",
       "        -0.25687138, -0.2132841 ],\n",
       "       ...,\n",
       "       [-0.21403868, -0.20746548, -0.24360449, ..., -0.20997558,\n",
       "        -0.25687138, -0.2132841 ],\n",
       "       [ 0.12080254, -0.20746548, -0.24360449, ..., -0.20997558,\n",
       "        -0.25687138, -0.2132841 ],\n",
       "       [-0.48191165, -0.20746548, -0.24360449, ..., -0.20997558,\n",
       "        -0.25687138, -0.2132841 ]])"
      ]
     },
     "execution_count": 39,
     "metadata": {},
     "output_type": "execute_result"
    }
   ],
   "source": [
    "data_preprocessed = scaler.transform(data_preprocessed)\n",
    "data_preprocessed"
   ]
  },
  {
   "cell_type": "code",
   "execution_count": 40,
   "id": "9ab53732-fa42-44e6-b669-789cb9c029ac",
   "metadata": {},
   "outputs": [
    {
     "name": "stdout",
     "output_type": "stream",
     "text": [
      "(9354, 2)\n",
      "(9354,)\n"
     ]
    }
   ],
   "source": [
    "print(X.shape)\n",
    "print(y.shape)"
   ]
  },
  {
   "cell_type": "code",
   "execution_count": 41,
   "id": "785625fb-22e4-4c0b-85b2-818cb9788602",
   "metadata": {},
   "outputs": [],
   "source": [
    "X_train,X_test,y_train,y_test = train_test_split(data_preprocessed,y,test_size=0.2,random_state=365)"
   ]
  },
  {
   "cell_type": "code",
   "execution_count": 42,
   "id": "fcbf49cb-c55d-4366-856f-95b5055126de",
   "metadata": {},
   "outputs": [],
   "source": [
    "reg = LinearRegression().fit(X_train, y_train)"
   ]
  },
  {
   "cell_type": "code",
   "execution_count": 43,
   "id": "95b40b50-00e0-4d7a-92df-6fe0326ceafd",
   "metadata": {},
   "outputs": [
    {
     "data": {
      "text/plain": [
       "array([3.82511978, 3.10417251, 4.23649673, ..., 5.76405411, 2.52919082,\n",
       "       2.62294082])"
      ]
     },
     "execution_count": 43,
     "metadata": {},
     "output_type": "execute_result"
    }
   ],
   "source": [
    "reg.predict(X_test)"
   ]
  },
  {
   "cell_type": "code",
   "execution_count": 44,
   "id": "33b50943-e84b-47c7-a4cf-54b00ef7d0d7",
   "metadata": {},
   "outputs": [],
   "source": [
    "Y_pre = reg.predict(X_test)"
   ]
  },
  {
   "cell_type": "code",
   "execution_count": 45,
   "id": "fdc81ea3-a2dc-4e31-b6f2-d6b416c549d4",
   "metadata": {},
   "outputs": [],
   "source": [
    "perc = np.abs((Y_pre - y_test)/y_test)\n",
    "perc = perc.values*100"
   ]
  },
  {
   "cell_type": "code",
   "execution_count": 46,
   "id": "07b9207e-2e16-4545-aa7d-76ffba79bf4b",
   "metadata": {},
   "outputs": [
    {
     "data": {
      "text/plain": [
       "array([[  3.82511978,   3.10417251,   4.23649673, ...,   5.76405411,\n",
       "          2.52919082,   2.62294082],\n",
       "       [  7.        ,   2.5       ,   5.5       , ...,   2.        ,\n",
       "          1.65      ,   2.6       ],\n",
       "       [ 45.35543172,  24.16690056,  22.97278668, ..., 188.20270529,\n",
       "         53.28429239,   0.8823394 ]])"
      ]
     },
     "execution_count": 46,
     "metadata": {},
     "output_type": "execute_result"
    }
   ],
   "source": [
    "np.array([Y_pre, y_test, perc])"
   ]
  },
  {
   "cell_type": "code",
   "execution_count": 47,
   "id": "5682a217-15bd-476f-b17a-625af1e6e7ea",
   "metadata": {},
   "outputs": [],
   "source": [
    "data = {'predict price':Y_pre,\n",
    "        'realistic price':y_test,\n",
    "       '% deviation': perc}\n",
    "A = pd.DataFrame(data)"
   ]
  },
  {
   "cell_type": "code",
   "execution_count": 48,
   "id": "a38d26c9-7fa4-4cf9-8da7-c3b7a90f1214",
   "metadata": {},
   "outputs": [
    {
     "data": {
      "text/html": [
       "<div>\n",
       "<style scoped>\n",
       "    .dataframe tbody tr th:only-of-type {\n",
       "        vertical-align: middle;\n",
       "    }\n",
       "\n",
       "    .dataframe tbody tr th {\n",
       "        vertical-align: top;\n",
       "    }\n",
       "\n",
       "    .dataframe thead th {\n",
       "        text-align: right;\n",
       "    }\n",
       "</style>\n",
       "<table border=\"1\" class=\"dataframe\">\n",
       "  <thead>\n",
       "    <tr style=\"text-align: right;\">\n",
       "      <th></th>\n",
       "      <th>predict price</th>\n",
       "      <th>realistic price</th>\n",
       "      <th>% deviation</th>\n",
       "    </tr>\n",
       "  </thead>\n",
       "  <tbody>\n",
       "    <tr>\n",
       "      <th>9175</th>\n",
       "      <td>2.300217</td>\n",
       "      <td>2.3</td>\n",
       "      <td>0.009454</td>\n",
       "    </tr>\n",
       "    <tr>\n",
       "      <th>4051</th>\n",
       "      <td>4.096360</td>\n",
       "      <td>4.1</td>\n",
       "      <td>0.088780</td>\n",
       "    </tr>\n",
       "    <tr>\n",
       "      <th>4095</th>\n",
       "      <td>2.803391</td>\n",
       "      <td>2.8</td>\n",
       "      <td>0.121117</td>\n",
       "    </tr>\n",
       "    <tr>\n",
       "      <th>3783</th>\n",
       "      <td>3.204026</td>\n",
       "      <td>3.2</td>\n",
       "      <td>0.125813</td>\n",
       "    </tr>\n",
       "    <tr>\n",
       "      <th>539</th>\n",
       "      <td>3.404465</td>\n",
       "      <td>3.4</td>\n",
       "      <td>0.131338</td>\n",
       "    </tr>\n",
       "    <tr>\n",
       "      <th>...</th>\n",
       "      <td>...</td>\n",
       "      <td>...</td>\n",
       "      <td>...</td>\n",
       "    </tr>\n",
       "    <tr>\n",
       "      <th>1317</th>\n",
       "      <td>9.687424</td>\n",
       "      <td>1.5</td>\n",
       "      <td>545.828298</td>\n",
       "    </tr>\n",
       "    <tr>\n",
       "      <th>1001</th>\n",
       "      <td>3.645188</td>\n",
       "      <td>0.5</td>\n",
       "      <td>629.037628</td>\n",
       "    </tr>\n",
       "    <tr>\n",
       "      <th>938</th>\n",
       "      <td>3.735520</td>\n",
       "      <td>0.5</td>\n",
       "      <td>647.104034</td>\n",
       "    </tr>\n",
       "    <tr>\n",
       "      <th>950</th>\n",
       "      <td>3.735520</td>\n",
       "      <td>0.5</td>\n",
       "      <td>647.104034</td>\n",
       "    </tr>\n",
       "    <tr>\n",
       "      <th>980</th>\n",
       "      <td>3.735520</td>\n",
       "      <td>0.5</td>\n",
       "      <td>647.104034</td>\n",
       "    </tr>\n",
       "  </tbody>\n",
       "</table>\n",
       "<p>1871 rows × 3 columns</p>\n",
       "</div>"
      ],
      "text/plain": [
       "      predict price  realistic price  % deviation\n",
       "9175       2.300217              2.3     0.009454\n",
       "4051       4.096360              4.1     0.088780\n",
       "4095       2.803391              2.8     0.121117\n",
       "3783       3.204026              3.2     0.125813\n",
       "539        3.404465              3.4     0.131338\n",
       "...             ...              ...          ...\n",
       "1317       9.687424              1.5   545.828298\n",
       "1001       3.645188              0.5   629.037628\n",
       "938        3.735520              0.5   647.104034\n",
       "950        3.735520              0.5   647.104034\n",
       "980        3.735520              0.5   647.104034\n",
       "\n",
       "[1871 rows x 3 columns]"
      ]
     },
     "execution_count": 48,
     "metadata": {},
     "output_type": "execute_result"
    }
   ],
   "source": [
    "B = A.sort_values(by=['% deviation'])\n",
    "B"
   ]
  },
  {
   "cell_type": "markdown",
   "id": "ddf7894c-ab91-4f2e-b50f-99c577de3dee",
   "metadata": {},
   "source": [
    "## 3.3. Model evaluation"
   ]
  },
  {
   "cell_type": "code",
   "execution_count": 49,
   "id": "27a06296-db06-4bc4-9242-69e50e10b568",
   "metadata": {},
   "outputs": [
    {
     "data": {
      "text/plain": [
       "count    1871.000000\n",
       "mean       42.731786\n",
       "std        68.386825\n",
       "min         0.009454\n",
       "25%        11.378746\n",
       "50%        23.935235\n",
       "75%        41.954278\n",
       "max       647.104034\n",
       "Name: % deviation, dtype: float64"
      ]
     },
     "execution_count": 49,
     "metadata": {},
     "output_type": "execute_result"
    }
   ],
   "source": [
    "B['% deviation'].describe()"
   ]
  },
  {
   "cell_type": "code",
   "execution_count": 50,
   "id": "16ebafc8-9c3b-41df-8ff9-b5ec98c9ba0e",
   "metadata": {},
   "outputs": [
    {
     "data": {
      "text/plain": [
       "2.7275005288239633"
      ]
     },
     "execution_count": 50,
     "metadata": {},
     "output_type": "execute_result"
    }
   ],
   "source": [
    "(sum((reg.predict(X_test) - y_test)**2)/len(y_test))**0.5"
   ]
  },
  {
   "cell_type": "code",
   "execution_count": 51,
   "id": "639504e2-b6a9-40d7-9bc7-f42dd6e661d6",
   "metadata": {},
   "outputs": [
    {
     "name": "stdout",
     "output_type": "stream",
     "text": [
      "Mean Squared Error: 7.439259134734985\n"
     ]
    }
   ],
   "source": [
    "from sklearn.metrics import mean_squared_error\n",
    "mse = mean_squared_error(y_test, Y_pre)\n",
    "print(\"Mean Squared Error:\", mse)"
   ]
  },
  {
   "cell_type": "markdown",
   "id": "e0cee286-4360-42e8-8c6f-d8421bf30526",
   "metadata": {},
   "source": [
    "## 3.4. Encapsulate predict model"
   ]
  },
  {
   "cell_type": "code",
   "execution_count": 52,
   "id": "896769e1",
   "metadata": {},
   "outputs": [],
   "source": [
    "from joblib import dump\n",
    "from joblib import load\n",
    "\n",
    "model_file = 'linear_regression_model.joblib'\n",
    "dump(reg, model_file)\n",
    "\n",
    "data_dummies.to_csv('data_dummies.csv', index=False)\n"
   ]
  },
  {
   "cell_type": "code",
   "execution_count": 53,
   "id": "2b5e4e56",
   "metadata": {},
   "outputs": [],
   "source": [
    "dummies_data = data_dummies = pd.read_csv('data_dummies.csv')\n",
    "loaded_model = load('linear_regression_model.joblib')"
   ]
  },
  {
   "cell_type": "code",
   "execution_count": 54,
   "id": "f90b430c-cef4-4dfa-bedf-8b0725531add",
   "metadata": {},
   "outputs": [],
   "source": [
    "def Predict_price(district, square):\n",
    "    new_input = pd.DataFrame({'acreage': [square], 'district': [district]})\n",
    "    district_enconder = 'district_'+district\n",
    "    # One-hot encode the district feature\n",
    "    new_input_dummies = pd.get_dummies(new_input, drop_first=True)\n",
    "    new_input_dummies\n",
    "    # Ensure the columns are consistent with the training data\n",
    "    # Add missing district columns if necessary\n",
    "    missing_cols = set(data_dummies.columns) - set(new_input_dummies.columns)\n",
    "    for col in missing_cols:\n",
    "        new_input_dummies[col] = 0\n",
    "    new_input_dummies[district_enconder] = 1\n",
    "    # Reorder the columns to match the order of the training data\n",
    "    new_input_dummies = new_input_dummies[data_dummies.columns]\n",
    "    new_input_dummies = scaler.transform(new_input_dummies)\n",
    "    # Predict using the trained model\n",
    "    Y_pred = loaded_model.predict(new_input_dummies)\n",
    "    # Decode the predictions\n",
    "    decoded_predictions = pd.DataFrame(Y_pred, columns=['Predicted_Price'])\n",
    "    # Print the decoded predictions\n",
    "    print(decoded_predictions)"
   ]
  },
  {
   "cell_type": "code",
   "execution_count": 55,
   "id": "a2900e0c-a237-43bc-af3c-7007795f0904",
   "metadata": {},
   "outputs": [
    {
     "name": "stdout",
     "output_type": "stream",
     "text": [
      "   Predicted_Price\n",
      "0         3.168381\n",
      "   Predicted_Price\n",
      "0          2.69719\n",
      "   Predicted_Price\n",
      "0         3.797776\n",
      "   Predicted_Price\n",
      "0         4.437424\n"
     ]
    }
   ],
   "source": [
    "Predict_price('Gò Vấp', 18)\n",
    "Predict_price('Thủ Đức', 30)\n",
    "Predict_price('Bình Thạnh', 20)\n",
    "Predict_price('1', 15)"
   ]
  }
 ],
 "metadata": {
  "kernelspec": {
   "display_name": "Python 3 (ipykernel)",
   "language": "python",
   "name": "python3"
  },
  "language_info": {
   "codemirror_mode": {
    "name": "ipython",
    "version": 3
   },
   "file_extension": ".py",
   "mimetype": "text/x-python",
   "name": "python",
   "nbconvert_exporter": "python",
   "pygments_lexer": "ipython3",
   "version": "3.11.7"
  }
 },
 "nbformat": 4,
 "nbformat_minor": 5
}
