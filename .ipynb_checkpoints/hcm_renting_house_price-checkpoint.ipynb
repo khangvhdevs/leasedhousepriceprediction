{
 "cells": [
  {
   "cell_type": "code",
   "execution_count": 3,
   "id": "d7f0a7e0-ef54-44b6-af10-c909a6ec351d",
   "metadata": {},
   "outputs": [],
   "source": [
    "import os\n",
    "import pandas as pd\n",
    "import matplotlib.pyplot as plt\n",
    "import numpy as np\n",
    "import seaborn as sns"
   ]
  },
  {
   "cell_type": "code",
   "execution_count": 4,
   "id": "f5229bfb-aa2d-4466-b0c2-189ecc534e13",
   "metadata": {},
   "outputs": [],
   "source": [
    "path = \"C:\\\\Users\\\\LEGION\\\\Documents\\\\My Document\\\\BTEC Study Case\\\\6th semester\\\\Computing Project\\\\project\\\\house_hiring\\\\data\\\\\""
   ]
  },
  {
   "cell_type": "code",
   "execution_count": 5,
   "id": "73b6859e-9b35-4eb7-aa2b-5947f3861dd6",
   "metadata": {},
   "outputs": [],
   "source": [
    "df_hcm = pd.read_csv(path + 'hcm.csv')"
   ]
  },
  {
   "cell_type": "markdown",
   "id": "7b8b8bb9-b710-48fe-a60f-0ac284055bfe",
   "metadata": {},
   "source": [
    "# 1. Clean and Preprocess data"
   ]
  },
  {
   "cell_type": "code",
   "execution_count": 30,
   "id": "1e62d822-97aa-4885-97b2-95a8036b3335",
   "metadata": {},
   "outputs": [],
   "source": [
    "def address_to_district(address):\n",
    "    parts = address.split(',')\n",
    "    if len(parts) >= 3:\n",
    "        district = parts[-3].strip()\n",
    "        if \"Quận\" in district or \"Huyện\" in district:\n",
    "            return district\n",
    "    return None"
   ]
  },
  {
   "cell_type": "code",
   "execution_count": 7,
   "id": "4eaf4687-6d7b-4484-ac03-da6a47cefbaa",
   "metadata": {},
   "outputs": [],
   "source": [
    "def district_clean(district, district_sample):\n",
    "    if district in district_sample:\n",
    "        return district\n",
    "    else:\n",
    "        # Find the matching substring in district_sample\n",
    "        for sample_district in district_sample:\n",
    "            if district in sample_district:\n",
    "                return sample_district"
   ]
  },
  {
   "cell_type": "code",
   "execution_count": 19,
   "id": "83d2c64e-41e0-478a-8170-32aab6036a57",
   "metadata": {},
   "outputs": [],
   "source": [
    "def address_to_ward(address):\n",
    "    parts = address.split(',')\n",
    "    if len(parts) >= 3:\n",
    "        ward = parts[-3].strip()\n",
    "        if \"Phường\" in ward or \"Xã\" in ward:\n",
    "            ward = ward.split(\"Xã\")[-1].split(\"Phường\")[-1].strip()\n",
    "            return ward\n",
    "    return None"
   ]
  },
  {
   "cell_type": "code",
   "execution_count": 8,
   "id": "5271a56f-cca0-44e7-b248-bc2d610b98f2",
   "metadata": {},
   "outputs": [],
   "source": [
    "df_hcm.loc[:,'city'] = 'HCM'"
   ]
  },
  {
   "cell_type": "code",
   "execution_count": 9,
   "id": "e8f6d18c-3a37-4a6e-96af-137fd02b30c2",
   "metadata": {},
   "outputs": [],
   "source": [
    "df_hcm.loc[:,'district'] = df_hcm['address'].apply(address_to_district)"
   ]
  },
  {
   "cell_type": "code",
   "execution_count": 10,
   "id": "02eded88-9e20-42a7-9a23-2b4fa07655b2",
   "metadata": {},
   "outputs": [
    {
     "data": {
      "text/plain": [
       "array(['Quận Bình Tân', 'Quận 7', 'Quận Phú Nhuận', 'Quận 3', 'Quận 8',\n",
       "       'Quận 6', 'Quận 4', 'Quận 10', 'Huyện Nhà Bè', None, 'Quận 11',\n",
       "       'Quận 5', 'Quận 05', 'Quận Gò Vấp', 'Quận Gò Vấp', 'Quận 12',\n",
       "       'Quận 1', 'Quận 9', 'Quận 9 (có thể đi xe buýt', 'Quận Bình Thạnh',\n",
       "       'P Tân Tạo Quận Bình Tân', 'Quận Tân Bình', 'Quận Tân Phú',\n",
       "       'Huyện Củ Chi', 'Huyện Bình Chánh', 'Quận 2', 'Huyện Củ aChi',\n",
       "       'Quận Thủ Đức', 'Huyện Hóc Môn'], dtype=object)"
      ]
     },
     "execution_count": 10,
     "metadata": {},
     "output_type": "execute_result"
    }
   ],
   "source": [
    "df_hcm['district'].unique()"
   ]
  },
  {
   "cell_type": "code",
   "execution_count": 11,
   "id": "10d398ec-1274-47d8-8ad3-524429dff1d5",
   "metadata": {},
   "outputs": [],
   "source": [
    "df_hcm = df_hcm[df_hcm['district'].notnull()]"
   ]
  },
  {
   "cell_type": "code",
   "execution_count": 12,
   "id": "d7d2e759-2552-471c-a62e-9aff81720f27",
   "metadata": {},
   "outputs": [],
   "source": [
    "district_hcm = ['Quận Bình Tân', 'Quận 7', 'Quận Phú Nhuận', 'Quận 3', 'Quận 8',\n",
    "       'Quận 6', 'Quận 4', 'Quận 10', 'Quận 11',\n",
    "       'Quận 5', 'Quận 1', 'Quận Gò Vấp', 'Quận 12', 'Quận 9', 'Quận Bình Thạnh',\n",
    "       'Quận Tân Bình', 'Quận Tân Phú', 'Quận 2', 'Quận Thủ Đức', 'Huyện Nhà Bè', 'Huyện Củ Chi', 'Huyện Bình Chánh', 'Huyện Hóc Môn']"
   ]
  },
  {
   "cell_type": "code",
   "execution_count": 13,
   "id": "e3013379-9edd-47bb-b979-5c765ed72418",
   "metadata": {},
   "outputs": [],
   "source": [
    "df_hcm.loc[:, 'district'] = df_hcm['district'].apply(lambda x: district_clean(x, district_hcm))"
   ]
  },
  {
   "cell_type": "code",
   "execution_count": 14,
   "id": "c484fcad-760e-4372-b0fe-44ae6779dc54",
   "metadata": {},
   "outputs": [
    {
     "data": {
      "text/plain": [
       "array(['Quận Bình Tân', 'Quận 7', 'Quận Phú Nhuận', 'Quận 3', 'Quận 8',\n",
       "       'Quận 6', 'Quận 4', 'Quận 10', 'Huyện Nhà Bè', 'Quận 11', 'Quận 5',\n",
       "       None, 'Quận Gò Vấp', 'Quận 12', 'Quận 1', 'Quận 9',\n",
       "       'Quận Bình Thạnh', 'Quận Tân Bình', 'Quận Tân Phú', 'Huyện Củ Chi',\n",
       "       'Huyện Bình Chánh', 'Quận 2', 'Quận Thủ Đức', 'Huyện Hóc Môn'],\n",
       "      dtype=object)"
      ]
     },
     "execution_count": 14,
     "metadata": {},
     "output_type": "execute_result"
    }
   ],
   "source": [
    "df_hcm['district'].unique()"
   ]
  },
  {
   "cell_type": "code",
   "execution_count": 15,
   "id": "9ac32d54-2470-4e42-8fce-894328e2e3cc",
   "metadata": {},
   "outputs": [
    {
     "name": "stdout",
     "output_type": "stream",
     "text": [
      "<class 'pandas.core.frame.DataFrame'>\n",
      "Index: 9582 entries, 0 to 9732\n",
      "Data columns (total 7 columns):\n",
      " #   Column     Non-Null Count  Dtype  \n",
      "---  ------     --------------  -----  \n",
      " 0   title      9582 non-null   object \n",
      " 1   price      9582 non-null   float64\n",
      " 2   published  9582 non-null   object \n",
      " 3   acreage    9582 non-null   float64\n",
      " 4   address    9582 non-null   object \n",
      " 5   city       9582 non-null   object \n",
      " 6   district   9577 non-null   object \n",
      "dtypes: float64(2), object(5)\n",
      "memory usage: 598.9+ KB\n"
     ]
    }
   ],
   "source": [
    "df_hcm.info()"
   ]
  },
  {
   "cell_type": "code",
   "execution_count": 16,
   "id": "2af30a13-9a48-454c-b7d1-af3b0abb3589",
   "metadata": {},
   "outputs": [],
   "source": [
    "df_hcm = df_hcm[df_hcm['district'].notnull()]"
   ]
  },
  {
   "cell_type": "code",
   "execution_count": 17,
   "id": "778ad791-e16b-4119-807c-3121fc108af6",
   "metadata": {},
   "outputs": [
    {
     "name": "stdout",
     "output_type": "stream",
     "text": [
      "<class 'pandas.core.frame.DataFrame'>\n",
      "Index: 9577 entries, 0 to 9732\n",
      "Data columns (total 7 columns):\n",
      " #   Column     Non-Null Count  Dtype  \n",
      "---  ------     --------------  -----  \n",
      " 0   title      9577 non-null   object \n",
      " 1   price      9577 non-null   float64\n",
      " 2   published  9577 non-null   object \n",
      " 3   acreage    9577 non-null   float64\n",
      " 4   address    9577 non-null   object \n",
      " 5   city       9577 non-null   object \n",
      " 6   district   9577 non-null   object \n",
      "dtypes: float64(2), object(5)\n",
      "memory usage: 598.6+ KB\n"
     ]
    }
   ],
   "source": [
    "df_hcm.info()"
   ]
  },
  {
   "cell_type": "markdown",
   "id": "7967bbb5-3a62-4748-aa11-60c6089452b8",
   "metadata": {},
   "source": [
    "## 2.2. Split to wards of district"
   ]
  },
  {
   "cell_type": "code",
   "execution_count": 18,
   "id": "0730a53f-6373-48f2-9af5-fa27fb1bbbe7",
   "metadata": {},
   "outputs": [
    {
     "data": {
      "text/html": [
       "<div>\n",
       "<style scoped>\n",
       "    .dataframe tbody tr th:only-of-type {\n",
       "        vertical-align: middle;\n",
       "    }\n",
       "\n",
       "    .dataframe tbody tr th {\n",
       "        vertical-align: top;\n",
       "    }\n",
       "\n",
       "    .dataframe thead th {\n",
       "        text-align: right;\n",
       "    }\n",
       "</style>\n",
       "<table border=\"1\" class=\"dataframe\">\n",
       "  <thead>\n",
       "    <tr style=\"text-align: right;\">\n",
       "      <th></th>\n",
       "      <th>title</th>\n",
       "      <th>price</th>\n",
       "      <th>published</th>\n",
       "      <th>acreage</th>\n",
       "      <th>address</th>\n",
       "      <th>city</th>\n",
       "      <th>district</th>\n",
       "    </tr>\n",
       "  </thead>\n",
       "  <tbody>\n",
       "    <tr>\n",
       "      <th>0</th>\n",
       "      <td>Cho thuê nhà trọ mới sạch đẹp tại Lê Đình Cẩn,...</td>\n",
       "      <td>2.2</td>\n",
       "      <td>16/05/2022</td>\n",
       "      <td>20.0</td>\n",
       "      <td>Lê Đình Cẩn, Phường Tân Tạo, Quận Bình Tân, Hồ...</td>\n",
       "      <td>HCM</td>\n",
       "      <td>Quận Bình Tân</td>\n",
       "    </tr>\n",
       "    <tr>\n",
       "      <th>1</th>\n",
       "      <td>Cho thuê phòng trọ giá rẻ ở mặt tiền hẻm lớn Đ...</td>\n",
       "      <td>2.5</td>\n",
       "      <td>20/04/2022</td>\n",
       "      <td>20.0</td>\n",
       "      <td>487/35/25 Đường Huỳnh Tấn Phát, Phường Tân Thu...</td>\n",
       "      <td>HCM</td>\n",
       "      <td>Quận 7</td>\n",
       "    </tr>\n",
       "    <tr>\n",
       "      <th>2</th>\n",
       "      <td>Cho thuê phòng trọ kdc Nam Long-Trần Trọng Cun...</td>\n",
       "      <td>3.5</td>\n",
       "      <td>10/05/2022</td>\n",
       "      <td>30.0</td>\n",
       "      <td>Đường 10, Phường Tân Thuận Đông, Quận 7, Hồ Ch...</td>\n",
       "      <td>HCM</td>\n",
       "      <td>Quận 7</td>\n",
       "    </tr>\n",
       "    <tr>\n",
       "      <th>3</th>\n",
       "      <td>Phòng trọ giá rẻ ngay cổng khu chế xuất Tân Th...</td>\n",
       "      <td>1.5</td>\n",
       "      <td>05/05/2022</td>\n",
       "      <td>30.0</td>\n",
       "      <td>283/15 Huỳnh Tấn Phát, Phường Tân Thuận Đông, ...</td>\n",
       "      <td>HCM</td>\n",
       "      <td>Quận 7</td>\n",
       "    </tr>\n",
       "    <tr>\n",
       "      <th>4</th>\n",
       "      <td>Cho thuê phòng có gác, không gác, tolet riêng ...</td>\n",
       "      <td>3.5</td>\n",
       "      <td>05/01/2022</td>\n",
       "      <td>18.0</td>\n",
       "      <td>Lê Văn Sỹ, Phường 14, Quận Phú Nhuận, Hồ Chí Minh</td>\n",
       "      <td>HCM</td>\n",
       "      <td>Quận Phú Nhuận</td>\n",
       "    </tr>\n",
       "  </tbody>\n",
       "</table>\n",
       "</div>"
      ],
      "text/plain": [
       "                                               title  price   published  \\\n",
       "0  Cho thuê nhà trọ mới sạch đẹp tại Lê Đình Cẩn,...    2.2  16/05/2022   \n",
       "1  Cho thuê phòng trọ giá rẻ ở mặt tiền hẻm lớn Đ...    2.5  20/04/2022   \n",
       "2  Cho thuê phòng trọ kdc Nam Long-Trần Trọng Cun...    3.5  10/05/2022   \n",
       "3  Phòng trọ giá rẻ ngay cổng khu chế xuất Tân Th...    1.5  05/05/2022   \n",
       "4  Cho thuê phòng có gác, không gác, tolet riêng ...    3.5  05/01/2022   \n",
       "\n",
       "   acreage                                            address city  \\\n",
       "0     20.0  Lê Đình Cẩn, Phường Tân Tạo, Quận Bình Tân, Hồ...  HCM   \n",
       "1     20.0  487/35/25 Đường Huỳnh Tấn Phát, Phường Tân Thu...  HCM   \n",
       "2     30.0  Đường 10, Phường Tân Thuận Đông, Quận 7, Hồ Ch...  HCM   \n",
       "3     30.0  283/15 Huỳnh Tấn Phát, Phường Tân Thuận Đông, ...  HCM   \n",
       "4     18.0  Lê Văn Sỹ, Phường 14, Quận Phú Nhuận, Hồ Chí Minh  HCM   \n",
       "\n",
       "         district  \n",
       "0   Quận Bình Tân  \n",
       "1          Quận 7  \n",
       "2          Quận 7  \n",
       "3          Quận 7  \n",
       "4  Quận Phú Nhuận  "
      ]
     },
     "execution_count": 18,
     "metadata": {},
     "output_type": "execute_result"
    }
   ],
   "source": [
    "df_hcm.head()"
   ]
  },
  {
   "cell_type": "code",
   "execution_count": 32,
   "id": "e92d0f3f-4a72-4198-bfa1-bdf585942af9",
   "metadata": {},
   "outputs": [],
   "source": [
    "df_hcm.loc[:, 'ward'] = df_hcm['address'].apply(address_to_ward)"
   ]
  },
  {
   "cell_type": "code",
   "execution_count": 27,
   "id": "cb1993b2-7659-4392-b4f9-76ba98d65a27",
   "metadata": {},
   "outputs": [
    {
     "data": {
      "text/html": [
       "<div>\n",
       "<style scoped>\n",
       "    .dataframe tbody tr th:only-of-type {\n",
       "        vertical-align: middle;\n",
       "    }\n",
       "\n",
       "    .dataframe tbody tr th {\n",
       "        vertical-align: top;\n",
       "    }\n",
       "\n",
       "    .dataframe thead th {\n",
       "        text-align: right;\n",
       "    }\n",
       "</style>\n",
       "<table border=\"1\" class=\"dataframe\">\n",
       "  <thead>\n",
       "    <tr style=\"text-align: right;\">\n",
       "      <th></th>\n",
       "      <th>title</th>\n",
       "      <th>price</th>\n",
       "      <th>published</th>\n",
       "      <th>acreage</th>\n",
       "      <th>address</th>\n",
       "      <th>city</th>\n",
       "      <th>district</th>\n",
       "      <th>ward</th>\n",
       "    </tr>\n",
       "  </thead>\n",
       "  <tbody>\n",
       "    <tr>\n",
       "      <th>0</th>\n",
       "      <td>Cho thuê nhà trọ mới sạch đẹp tại Lê Đình Cẩn,...</td>\n",
       "      <td>2.2</td>\n",
       "      <td>16/05/2022</td>\n",
       "      <td>20.0</td>\n",
       "      <td>Lê Đình Cẩn, Phường Tân Tạo, Quận Bình Tân, Hồ...</td>\n",
       "      <td>HCM</td>\n",
       "      <td>Quận Bình Tân</td>\n",
       "      <td>Phường Tân Tạo</td>\n",
       "    </tr>\n",
       "    <tr>\n",
       "      <th>1</th>\n",
       "      <td>Cho thuê phòng trọ giá rẻ ở mặt tiền hẻm lớn Đ...</td>\n",
       "      <td>2.5</td>\n",
       "      <td>20/04/2022</td>\n",
       "      <td>20.0</td>\n",
       "      <td>487/35/25 Đường Huỳnh Tấn Phát, Phường Tân Thu...</td>\n",
       "      <td>HCM</td>\n",
       "      <td>Quận 7</td>\n",
       "      <td>Phường Tân Thuận Đông</td>\n",
       "    </tr>\n",
       "    <tr>\n",
       "      <th>2</th>\n",
       "      <td>Cho thuê phòng trọ kdc Nam Long-Trần Trọng Cun...</td>\n",
       "      <td>3.5</td>\n",
       "      <td>10/05/2022</td>\n",
       "      <td>30.0</td>\n",
       "      <td>Đường 10, Phường Tân Thuận Đông, Quận 7, Hồ Ch...</td>\n",
       "      <td>HCM</td>\n",
       "      <td>Quận 7</td>\n",
       "      <td>Phường Tân Thuận Đông</td>\n",
       "    </tr>\n",
       "    <tr>\n",
       "      <th>3</th>\n",
       "      <td>Phòng trọ giá rẻ ngay cổng khu chế xuất Tân Th...</td>\n",
       "      <td>1.5</td>\n",
       "      <td>05/05/2022</td>\n",
       "      <td>30.0</td>\n",
       "      <td>283/15 Huỳnh Tấn Phát, Phường Tân Thuận Đông, ...</td>\n",
       "      <td>HCM</td>\n",
       "      <td>Quận 7</td>\n",
       "      <td>Phường Tân Thuận Đông</td>\n",
       "    </tr>\n",
       "    <tr>\n",
       "      <th>4</th>\n",
       "      <td>Cho thuê phòng có gác, không gác, tolet riêng ...</td>\n",
       "      <td>3.5</td>\n",
       "      <td>05/01/2022</td>\n",
       "      <td>18.0</td>\n",
       "      <td>Lê Văn Sỹ, Phường 14, Quận Phú Nhuận, Hồ Chí Minh</td>\n",
       "      <td>HCM</td>\n",
       "      <td>Quận Phú Nhuận</td>\n",
       "      <td>Phường 14</td>\n",
       "    </tr>\n",
       "  </tbody>\n",
       "</table>\n",
       "</div>"
      ],
      "text/plain": [
       "                                               title  price   published  \\\n",
       "0  Cho thuê nhà trọ mới sạch đẹp tại Lê Đình Cẩn,...    2.2  16/05/2022   \n",
       "1  Cho thuê phòng trọ giá rẻ ở mặt tiền hẻm lớn Đ...    2.5  20/04/2022   \n",
       "2  Cho thuê phòng trọ kdc Nam Long-Trần Trọng Cun...    3.5  10/05/2022   \n",
       "3  Phòng trọ giá rẻ ngay cổng khu chế xuất Tân Th...    1.5  05/05/2022   \n",
       "4  Cho thuê phòng có gác, không gác, tolet riêng ...    3.5  05/01/2022   \n",
       "\n",
       "   acreage                                            address city  \\\n",
       "0     20.0  Lê Đình Cẩn, Phường Tân Tạo, Quận Bình Tân, Hồ...  HCM   \n",
       "1     20.0  487/35/25 Đường Huỳnh Tấn Phát, Phường Tân Thu...  HCM   \n",
       "2     30.0  Đường 10, Phường Tân Thuận Đông, Quận 7, Hồ Ch...  HCM   \n",
       "3     30.0  283/15 Huỳnh Tấn Phát, Phường Tân Thuận Đông, ...  HCM   \n",
       "4     18.0  Lê Văn Sỹ, Phường 14, Quận Phú Nhuận, Hồ Chí Minh  HCM   \n",
       "\n",
       "         district                   ward  \n",
       "0   Quận Bình Tân         Phường Tân Tạo  \n",
       "1          Quận 7  Phường Tân Thuận Đông  \n",
       "2          Quận 7  Phường Tân Thuận Đông  \n",
       "3          Quận 7  Phường Tân Thuận Đông  \n",
       "4  Quận Phú Nhuận              Phường 14  "
      ]
     },
     "execution_count": 27,
     "metadata": {},
     "output_type": "execute_result"
    }
   ],
   "source": [
    "df_hcm.head()"
   ]
  },
  {
   "cell_type": "code",
   "execution_count": 31,
   "id": "74a69016-0b8c-4dbd-b989-def6b9120cdb",
   "metadata": {},
   "outputs": [
    {
     "data": {
      "text/plain": [
       "array(['Phường Tân Tạo', 'Phường Tân Thuận Đông', 'Phường 14', 'Phường 1',\n",
       "       'Phường 16', 'Phường 18', 'Phường Tân Quy', None, 'Phường 15',\n",
       "       'Xã Phước Lộc', 'Phường 13', 'Phường Tân Phú', 'Phường 17',\n",
       "       'Phường Tân Thuận Tây', 'Xã Phước Kiển', 'Xã Long Thới',\n",
       "       'Phường Hiệp Phước', 'Xã Phú Xuân', 'Xã Nhơn Đức', 'Phường 12',\n",
       "       'Phường 8', 'Phường 4', 'Phường 11', 'Phường 9',\n",
       "       '21 Nguyễn Kim Phường 12', '21 nguyễn kim Phường 12', 'Phường 6',\n",
       "       'Phường 10', 'Phường 7', 'Phường 3', 'Phường 2', 'Phường 5',\n",
       "       'Phường Tân Tạo A', 'Phường Đông Hưng Thuận', 'Phường Thạnh Lộc',\n",
       "       'Phường Nguyễn Thái Bình', 'Phường An Phú Đông', 'Phường Cô Giang',\n",
       "       'Phường Hiệp Thành', 'Phường Nguyễn Cư Trinh', 'Phường Đa Kao',\n",
       "       'Phường Phạm Ngũ Lão', 'Phường Tân Định', 'Phường Thạnh Xuân',\n",
       "       'Phường Tân Thới Nhất', 'Phường Tân Chánh Hiệp',\n",
       "       'Phường Tân Hưng Thuận', 'Phường Tân Thới Hiệp',\n",
       "       'Phường Trung Mỹ Tây', 'Phường Thới An', 'Phường Cầu Ông Lãnh',\n",
       "       'Phường Phú Mỹ', 'Phường Bến Thành', 'Phường Bình Thuận',\n",
       "       'Phường Cầu Kho', 'Phường Tân Hưng', 'Phường Tân Phong',\n",
       "       'Phường Tân Kiểng', 'Phường Bến Nghé', 'Phường Phú Thuận',\n",
       "       'Phường Phước Long A', 'Phường Long Bình', 'Phường Long Trường',\n",
       "       'Phường Hiệp Phú', 'Phường Tăng Nhơn Phú B',\n",
       "       'Phường Bình Trị Đông B', 'Phường Long Thạnh Mỹ', 'Phường Phú Hữu',\n",
       "       'Phường Long Phước', 'Phường Tăng Nhơn Phú A',\n",
       "       'Phường Phước Long B', 'Phường Phước Bình', 'Phường Trường Thạnh',\n",
       "       'Phường Bình Trị Đông', 'Phường An Lạc', 'Phường 26', 'Phường 19',\n",
       "       'Phường 25', 'Phường 21', 'Phường 22', 'Phường 24', 'Phường 27',\n",
       "       'Phường An Lạc A', 'Phường 28', 'Phường 29',\n",
       "       'Phường Bình Trị Đông A', 'Phường Bình Hưng Hòa A',\n",
       "       'Phường Bình Hưng Hòa B', 'Phường Bình Hưng Hòa',\n",
       "       'Phường Tây Thạnh', 'Xã Trung Lập Thượng', 'Xã Tân Nhựt',\n",
       "       'Xã Vĩnh Lộc A', 'Xã Tân Quý Tây', 'Xã Tân Kiên',\n",
       "       'Phường Tân Thới Hòa', 'Xã Đa Phước', 'Xã Trung Lập Hạ',\n",
       "       'Xã Vĩnh Lộc B', 'Xã Quy Đức', 'Xã Phong Phú', 'Xã Lê Minh Xuân',\n",
       "       'Xã Phạm Văn Hai', 'Xã Bình Lợi', 'Xã Hưng Long', 'Xã Bình Chánh',\n",
       "       'Phường Thạnh Mỹ Lợi', 'Phường Thảo Điền', 'Phường Cát Lái',\n",
       "       'Xã Bình Hưng', 'Xã An Phú Tây', 'Phường Bình Trưng Đông',\n",
       "       'Xã Tân Thông Hội', 'Xã Tân Thạnh Tây', 'Phường Bình An',\n",
       "       'Xã Hòa Phú', 'Xã Phú Hòa Đông', 'Xã Tân An Hội',\n",
       "       'Xã Phước Vĩnh An', 'Xã Phước Hiệp', 'Xã Tân Phú Trung',\n",
       "       'Phường An Phú', 'Phường Bình Trưng Tây', 'Phường Bình Khánh',\n",
       "       'Xã Tân Thạnh Đông', 'Phường An Khánh', 'Phường Tân Thành',\n",
       "       'Phường Phú Thạnh', 'Phường Tam Phú', 'Phường Tân Quý',\n",
       "       'Phường Linh Xuân', 'Phường Tam Bình', 'Phường Hiệp Bình Phước',\n",
       "       'Phường Linh Trung', 'Phường Linh Chiểu', 'Phường Linh Đông',\n",
       "       'Phường Linh Tây', 'Phường Sơn Kỳ', 'Phường Phú Thọ Hòa',\n",
       "       'Phường Phú Trung', 'Phường Hòa Thạnh', 'Phường Trường Thọ',\n",
       "       'Phường Hiệp Tân', 'Phường Tân Sơn Nhì', 'Phường Hiệp Bình Chánh',\n",
       "       'Phường Bình Thọ', 'Phường Bình Chiểu', 'Xã Thới Tam Thôn',\n",
       "       'Phường Bà Điểm', 'Xã Đông Thạnh', 'Xã Bà Điểm',\n",
       "       'ấp 1 Xã Đông Thạnh', 'Phường Hóc Môn', 'Xã Nhị Bình',\n",
       "       'Xã Tân Hiệp', 'Xã Trung Chánh', '70/4 ấp 5 Xã Xuân Thới Thượng',\n",
       "       'Xã Xuân Thới Thượng', 'Xã Tân Xuân', 'Xã Xuân Thới Đông',\n",
       "       'Xã Xuân Thới Sơn', 'Xã Tân Thới Nhì'], dtype=object)"
      ]
     },
     "execution_count": 31,
     "metadata": {},
     "output_type": "execute_result"
    }
   ],
   "source": [
    "df_hcm['ward'].unique()"
   ]
  },
  {
   "cell_type": "code",
   "execution_count": null,
   "id": "8b6b9310-07f7-42da-befb-9db98d3a5e0f",
   "metadata": {},
   "outputs": [],
   "source": []
  }
 ],
 "metadata": {
  "kernelspec": {
   "display_name": "Python 3 (ipykernel)",
   "language": "python",
   "name": "python3"
  },
  "language_info": {
   "codemirror_mode": {
    "name": "ipython",
    "version": 3
   },
   "file_extension": ".py",
   "mimetype": "text/x-python",
   "name": "python",
   "nbconvert_exporter": "python",
   "pygments_lexer": "ipython3",
   "version": "3.11.7"
  }
 },
 "nbformat": 4,
 "nbformat_minor": 5
}
